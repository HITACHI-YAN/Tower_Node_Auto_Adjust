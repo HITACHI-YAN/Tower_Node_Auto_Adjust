{
 "cells": [
  {
   "cell_type": "code",
   "execution_count": 1,
   "id": "74eb3790",
   "metadata": {},
   "outputs": [],
   "source": [
    "import os\n",
    "import json"
   ]
  },
  {
   "cell_type": "markdown",
   "id": "49a2aaec",
   "metadata": {},
   "source": [
    "## This script is used to check if all *.geojson files are loadable."
   ]
  },
  {
   "cell_type": "code",
   "execution_count": 2,
   "id": "d067fb29",
   "metadata": {},
   "outputs": [
    {
     "name": "stdout",
     "output_type": "stream",
     "text": [
      "all *.geojson can be loaded!\n"
     ]
    }
   ],
   "source": [
    "directory = './geojson/adjusted/'\n",
    "error_files = []\n",
    "for filename in os.listdir(directory):\n",
    "    if filename.endswith('.geojson'):\n",
    "        file_path = os.path.join(directory, filename)\n",
    "        try:\n",
    "            with open(file_path, 'r') as file:\n",
    "                json.load(file)\n",
    "        except Exception as e:\n",
    "            error_files.append(filename)\n",
    "\n",
    "if error_files:\n",
    "    print(\"Error when loading the following files:\")\n",
    "    for error_file in error_files:\n",
    "        print(error_file)\n",
    "else:\n",
    "    print(\"all *.geojson can be loaded!\")"
   ]
  }
 ],
 "metadata": {
  "kernelspec": {
   "display_name": "Python 3 (ipykernel)",
   "language": "python",
   "name": "python3"
  },
  "language_info": {
   "codemirror_mode": {
    "name": "ipython",
    "version": 3
   },
   "file_extension": ".py",
   "mimetype": "text/x-python",
   "name": "python",
   "nbconvert_exporter": "python",
   "pygments_lexer": "ipython3",
   "version": "3.7.16"
  }
 },
 "nbformat": 4,
 "nbformat_minor": 5
}
