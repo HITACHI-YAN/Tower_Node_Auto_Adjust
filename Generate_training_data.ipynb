{
 "cells": [
  {
   "cell_type": "code",
   "execution_count": 1,
   "id": "b26d6368",
   "metadata": {},
   "outputs": [],
   "source": [
    "import os\n",
    "import random\n",
    "import rasterio\n",
    "import numpy as np\n",
    "import geopandas as gpd\n",
    "from osgeo import gdal\n",
    "from PIL import Image"
   ]
  },
  {
   "cell_type": "markdown",
   "id": "906e6b3a",
   "metadata": {},
   "source": [
    "## This script is used to generate training data for training networks that can help us automatically adjust geojson points' locations. "
   ]
  },
  {
   "cell_type": "markdown",
   "id": "8abf4f41",
   "metadata": {},
   "source": [
    "#There are mannually adjusted geojson files under ./geojson/adjusted/ folder. By randomly change the points of those adjusted points, we can simulate the situations that nodes are not correctly placed. The input image of the network to be trained is the cropped images under ./cropped/Train/ folder, they are images with center changed randomly.  X/Y change range: (-80,80) (random: normal distribution, avg=0, sd=10)"
   ]
  },
  {
   "cell_type": "code",
   "execution_count": 2,
   "id": "96c2d0e9",
   "metadata": {},
   "outputs": [],
   "source": [
    "# Define a function to crop an image\n",
    "def crop_image(img, px, py, crop_size=150):\n",
    "    half_size = crop_size // 2\n",
    "    start_x = max(px - half_size, 0)\n",
    "    end_x = min(px + half_size, img.shape[1])\n",
    "    start_y = max(py - half_size, 0)\n",
    "    end_y = min(py + half_size, img.shape[0])\n",
    "    \n",
    "    cropped_image = img[start_y:end_y, start_x:end_x]\n",
    "    return cropped_image\n",
    "\n",
    "\n",
    "def save_as_png(array, path):\n",
    "    img = Image.fromarray(array)\n",
    "    img.save(path)\n",
    "    \n",
    "    \n",
    "def read_RGB_from_geotif(src):  \n",
    "    band_count = src.count\n",
    "    if band_count >= 8:\n",
    "        r = src.read(5)\n",
    "        g = src.read(3)\n",
    "        b = src.read(2)\n",
    "    elif band_count <= 4:\n",
    "        r = src.read(1)\n",
    "        g = src.read(2)\n",
    "        b = src.read(3)\n",
    "    img = np.stack((r, g, b), axis=-1)\n",
    "    img_uint8 = (img / img.max() * 255).astype(np.uint8)\n",
    "    return img_uint8\n",
    "    \n",
    "    \n",
    "def latlon_2_imxy(points,bounds,image_size):\n",
    "    min_x = bounds[0]\n",
    "    min_y = bounds[1]\n",
    "    len_x = bounds[2] - bounds[0]\n",
    "    len_y = bounds[3] - bounds[1]\n",
    "    xy = np.zeros((len(points),2))\n",
    "    xy = np.array([[p.x, p.y] for p in points])      \n",
    "    xy[:, 0] = image_size[0] * ((xy[:, 0] - min_x) / len_x)\n",
    "    xy[:, 1] = image_size[1] - (image_size[1] * ((xy[:, 1] - min_y) / len_y))\n",
    "    xy = np.floor(xy)\n",
    "    return xy  "
   ]
  },
  {
   "cell_type": "code",
   "execution_count": 3,
   "id": "711500e1",
   "metadata": {},
   "outputs": [
    {
     "name": "stdout",
     "output_type": "stream",
     "text": [
      "./geojson/adjusted_base_center/1909.geojson\n",
      "0    POINT (106.75897 10.82453)\n",
      "1    POINT (106.75903 10.82038)\n",
      "2    POINT (106.76003 10.82693)\n",
      "3    POINT (106.75960 10.82642)\n",
      "4    POINT (106.75850 10.82853)\n",
      "Name: geometry, dtype: geometry\n",
      "The Unit is degree.\n"
     ]
    },
    {
     "name": "stderr",
     "output_type": "stream",
     "text": [
      "ERROR 1: PROJ: proj_identify: /home/irene-oceanus/anaconda3/envs/yolo/share/proj/proj.db lacks DATABASE.LAYOUT.VERSION.MAJOR / DATABASE.LAYOUT.VERSION.MINOR metadata. It comes from another PROJ installation.\n"
     ]
    },
    {
     "name": "stdout",
     "output_type": "stream",
     "text": [
      "./geojson/adjusted_base_center/1921.geojson\n",
      "0    POINT (106.76157 10.82935)\n",
      "1    POINT (106.76112 10.83008)\n",
      "2    POINT (106.76361 10.82919)\n",
      "3    POINT (106.76299 10.83239)\n",
      "4    POINT (106.76564 10.83273)\n",
      "5    POINT (106.76140 10.83231)\n",
      "6    POINT (106.76083 10.83266)\n",
      "7    POINT (106.76289 10.83447)\n",
      "8    POINT (106.76242 10.83658)\n",
      "Name: geometry, dtype: geometry\n",
      "The Unit is degree.\n"
     ]
    },
    {
     "name": "stderr",
     "output_type": "stream",
     "text": [
      "ERROR 1: PROJ: proj_identify: /home/irene-oceanus/anaconda3/envs/yolo/share/proj/proj.db lacks DATABASE.LAYOUT.VERSION.MAJOR / DATABASE.LAYOUT.VERSION.MINOR metadata. It comes from another PROJ installation.\n"
     ]
    },
    {
     "name": "stdout",
     "output_type": "stream",
     "text": [
      "./geojson/adjusted_base_center/1963.geojson\n",
      "0    POINT (32.91814 39.87668)\n",
      "1    POINT (32.91742 39.87956)\n",
      "2    POINT (32.91701 39.87308)\n",
      "3    POINT (32.91660 39.87706)\n",
      "Name: geometry, dtype: geometry\n",
      "The Unit is degree.\n"
     ]
    },
    {
     "name": "stderr",
     "output_type": "stream",
     "text": [
      "ERROR 1: PROJ: proj_identify: /home/irene-oceanus/anaconda3/envs/yolo/share/proj/proj.db lacks DATABASE.LAYOUT.VERSION.MAJOR / DATABASE.LAYOUT.VERSION.MINOR metadata. It comes from another PROJ installation.\n"
     ]
    },
    {
     "name": "stdout",
     "output_type": "stream",
     "text": [
      "./geojson/adjusted_base_center/142.geojson\n",
      "0    POINT (10.13922 36.90805)\n",
      "1    POINT (10.12972 36.90749)\n",
      "2    POINT (10.13434 36.90775)\n",
      "Name: geometry, dtype: geometry\n",
      "The Unit is degree.\n"
     ]
    },
    {
     "name": "stderr",
     "output_type": "stream",
     "text": [
      "ERROR 1: PROJ: proj_identify: /home/irene-oceanus/anaconda3/envs/yolo/share/proj/proj.db lacks DATABASE.LAYOUT.VERSION.MAJOR / DATABASE.LAYOUT.VERSION.MINOR metadata. It comes from another PROJ installation.\n"
     ]
    },
    {
     "name": "stdout",
     "output_type": "stream",
     "text": [
      "./geojson/adjusted_base_center/2038.geojson\n",
      "0     POINT (30.42180 50.50407)\n",
      "1     POINT (30.42011 50.50078)\n",
      "2     POINT (30.41983 50.50096)\n",
      "3     POINT (30.42146 50.50418)\n",
      "4     POINT (30.42102 50.50255)\n",
      "5     POINT (30.41698 50.50090)\n",
      "6     POINT (30.42067 50.50263)\n",
      "7     POINT (30.42292 50.50497)\n",
      "8     POINT (30.42271 50.50521)\n",
      "9     POINT (30.42291 50.50526)\n",
      "10    POINT (30.42313 50.50525)\n",
      "11    POINT (30.42386 50.50830)\n",
      "12    POINT (30.42611 50.50449)\n",
      "13    POINT (30.42609 50.50472)\n",
      "Name: geometry, dtype: geometry\n",
      "The Unit is degree.\n"
     ]
    },
    {
     "name": "stderr",
     "output_type": "stream",
     "text": [
      "ERROR 1: PROJ: proj_identify: /home/irene-oceanus/anaconda3/envs/yolo/share/proj/proj.db lacks DATABASE.LAYOUT.VERSION.MAJOR / DATABASE.LAYOUT.VERSION.MINOR metadata. It comes from another PROJ installation.\n"
     ]
    },
    {
     "name": "stdout",
     "output_type": "stream",
     "text": [
      "./geojson/adjusted_base_center/2009.geojson\n",
      "0    POINT (30.50986 50.47624)\n",
      "1    POINT (30.51121 50.47988)\n",
      "2    POINT (30.50963 50.47585)\n",
      "3    POINT (30.50749 50.48001)\n",
      "4    POINT (30.51408 50.48287)\n",
      "5    POINT (30.51100 50.48020)\n",
      "6    POINT (30.51043 50.48100)\n",
      "Name: geometry, dtype: geometry\n",
      "The Unit is degree.\n"
     ]
    },
    {
     "name": "stderr",
     "output_type": "stream",
     "text": [
      "ERROR 1: PROJ: proj_identify: /home/irene-oceanus/anaconda3/envs/yolo/share/proj/proj.db lacks DATABASE.LAYOUT.VERSION.MAJOR / DATABASE.LAYOUT.VERSION.MINOR metadata. It comes from another PROJ installation.\n"
     ]
    },
    {
     "name": "stdout",
     "output_type": "stream",
     "text": [
      "./geojson/adjusted_base_center/12.geojson\n",
      "0    POINT (30.74885 46.55607)\n",
      "1    POINT (30.75024 46.55769)\n",
      "2    POINT (30.75156 46.55921)\n",
      "Name: geometry, dtype: geometry\n",
      "The Unit is degree.\n"
     ]
    },
    {
     "name": "stderr",
     "output_type": "stream",
     "text": [
      "ERROR 1: PROJ: proj_identify: /home/irene-oceanus/anaconda3/envs/yolo/share/proj/proj.db lacks DATABASE.LAYOUT.VERSION.MAJOR / DATABASE.LAYOUT.VERSION.MINOR metadata. It comes from another PROJ installation.\n"
     ]
    },
    {
     "name": "stdout",
     "output_type": "stream",
     "text": [
      "./geojson/adjusted_base_center/1896.geojson\n",
      "0    POINT (106.75739 10.81237)\n",
      "1    POINT (106.75858 10.81852)\n",
      "Name: geometry, dtype: geometry\n",
      "The Unit is degree.\n"
     ]
    },
    {
     "name": "stderr",
     "output_type": "stream",
     "text": [
      "ERROR 1: PROJ: proj_identify: /home/irene-oceanus/anaconda3/envs/yolo/share/proj/proj.db lacks DATABASE.LAYOUT.VERSION.MAJOR / DATABASE.LAYOUT.VERSION.MINOR metadata. It comes from another PROJ installation.\n"
     ]
    },
    {
     "name": "stdout",
     "output_type": "stream",
     "text": [
      "./geojson/adjusted_base_center/2303.geojson\n",
      "0    POINT (28.70194 40.97919)\n",
      "1    POINT (28.70189 40.97947)\n",
      "2    POINT (28.70188 40.97965)\n",
      "3    POINT (28.70261 40.97976)\n",
      "Name: geometry, dtype: geometry\n",
      "The Unit is degree.\n"
     ]
    },
    {
     "name": "stderr",
     "output_type": "stream",
     "text": [
      "ERROR 1: PROJ: proj_identify: /home/irene-oceanus/anaconda3/envs/yolo/share/proj/proj.db lacks DATABASE.LAYOUT.VERSION.MAJOR / DATABASE.LAYOUT.VERSION.MINOR metadata. It comes from another PROJ installation.\n"
     ]
    },
    {
     "name": "stdout",
     "output_type": "stream",
     "text": [
      "./geojson/adjusted_base_center/2016.geojson\n",
      "0    POINT (30.49662 50.49147)\n",
      "1    POINT (30.49924 50.49159)\n",
      "2    POINT (30.49519 50.49242)\n",
      "3    POINT (30.48701 50.49234)\n",
      "4    POINT (30.49202 50.49254)\n",
      "5    POINT (30.48912 50.49252)\n",
      "Name: geometry, dtype: geometry\n",
      "The Unit is degree.\n"
     ]
    },
    {
     "name": "stderr",
     "output_type": "stream",
     "text": [
      "ERROR 1: PROJ: proj_identify: /home/irene-oceanus/anaconda3/envs/yolo/share/proj/proj.db lacks DATABASE.LAYOUT.VERSION.MAJOR / DATABASE.LAYOUT.VERSION.MINOR metadata. It comes from another PROJ installation.\n"
     ]
    },
    {
     "name": "stdout",
     "output_type": "stream",
     "text": [
      "./geojson/adjusted_base_center/2382.geojson\n",
      "0    POINT (30.62927 46.34506)\n",
      "Name: geometry, dtype: geometry\n",
      "The Unit is degree.\n"
     ]
    },
    {
     "name": "stderr",
     "output_type": "stream",
     "text": [
      "ERROR 1: PROJ: proj_identify: /home/irene-oceanus/anaconda3/envs/yolo/share/proj/proj.db lacks DATABASE.LAYOUT.VERSION.MAJOR / DATABASE.LAYOUT.VERSION.MINOR metadata. It comes from another PROJ installation.\n"
     ]
    },
    {
     "name": "stdout",
     "output_type": "stream",
     "text": [
      "./geojson/adjusted_base_center/1128.geojson\n",
      "0    POINT (32.62999 39.96441)\n",
      "1    POINT (32.63236 39.96321)\n",
      "2    POINT (32.63521 39.96245)\n",
      "3    POINT (32.63717 39.96032)\n",
      "Name: geometry, dtype: geometry\n",
      "The Unit is degree.\n"
     ]
    },
    {
     "name": "stderr",
     "output_type": "stream",
     "text": [
      "ERROR 1: PROJ: proj_identify: /home/irene-oceanus/anaconda3/envs/yolo/share/proj/proj.db lacks DATABASE.LAYOUT.VERSION.MAJOR / DATABASE.LAYOUT.VERSION.MINOR metadata. It comes from another PROJ installation.\n"
     ]
    },
    {
     "name": "stdout",
     "output_type": "stream",
     "text": [
      "./geojson/adjusted_base_center/11.geojson\n",
      "0    POINT (30.73884 46.55764)\n",
      "1    POINT (30.74208 46.55895)\n",
      "2    POINT (30.74464 46.55121)\n",
      "3    POINT (30.74609 46.55291)\n",
      "4    POINT (30.74771 46.55475)\n",
      "5    POINT (30.73585 46.55640)\n",
      "6    POINT (30.73606 46.55714)\n",
      "7    POINT (30.73766 46.55683)\n",
      "Name: geometry, dtype: geometry\n",
      "The Unit is degree.\n"
     ]
    },
    {
     "name": "stderr",
     "output_type": "stream",
     "text": [
      "ERROR 1: PROJ: proj_identify: /home/irene-oceanus/anaconda3/envs/yolo/share/proj/proj.db lacks DATABASE.LAYOUT.VERSION.MAJOR / DATABASE.LAYOUT.VERSION.MINOR metadata. It comes from another PROJ installation.\n"
     ]
    },
    {
     "name": "stdout",
     "output_type": "stream",
     "text": [
      "./geojson/adjusted_base_center/2011.geojson\n",
      "0    POINT (30.53223 50.48414)\n",
      "1    POINT (30.53306 50.48330)\n",
      "2    POINT (30.53715 50.48236)\n",
      "3    POINT (30.53399 50.48235)\n",
      "Name: geometry, dtype: geometry\n",
      "The Unit is degree.\n"
     ]
    },
    {
     "name": "stderr",
     "output_type": "stream",
     "text": [
      "ERROR 1: PROJ: proj_identify: /home/irene-oceanus/anaconda3/envs/yolo/share/proj/proj.db lacks DATABASE.LAYOUT.VERSION.MAJOR / DATABASE.LAYOUT.VERSION.MINOR metadata. It comes from another PROJ installation.\n"
     ]
    },
    {
     "name": "stdout",
     "output_type": "stream",
     "text": [
      "./geojson/adjusted_base_center/1063.geojson\n",
      "0    POINT (77.27080 28.62560)\n",
      "1    POINT (77.26499 28.62686)\n",
      "Name: geometry, dtype: geometry\n",
      "The Unit is degree.\n"
     ]
    },
    {
     "name": "stderr",
     "output_type": "stream",
     "text": [
      "ERROR 1: PROJ: proj_identify: /home/irene-oceanus/anaconda3/envs/yolo/share/proj/proj.db lacks DATABASE.LAYOUT.VERSION.MAJOR / DATABASE.LAYOUT.VERSION.MINOR metadata. It comes from another PROJ installation.\n"
     ]
    },
    {
     "name": "stdout",
     "output_type": "stream",
     "text": [
      "./geojson/adjusted_base_center/1855.geojson\n",
      "0     POINT (106.79935 10.77486)\n",
      "1     POINT (106.80028 10.77781)\n",
      "2     POINT (106.79751 10.77908)\n",
      "3     POINT (106.80190 10.77911)\n",
      "4     POINT (106.80117 10.77914)\n",
      "5     POINT (106.80035 10.77914)\n",
      "6     POINT (106.80074 10.78108)\n",
      "7     POINT (106.80055 10.78116)\n",
      "8     POINT (106.80233 10.78119)\n",
      "9     POINT (106.79963 10.78155)\n",
      "10    POINT (106.79724 10.78190)\n",
      "11    POINT (106.80035 10.77981)\n",
      "12    POINT (106.79844 10.78173)\n",
      "Name: geometry, dtype: geometry\n",
      "The Unit is degree.\n"
     ]
    },
    {
     "name": "stderr",
     "output_type": "stream",
     "text": [
      "ERROR 1: PROJ: proj_identify: /home/irene-oceanus/anaconda3/envs/yolo/share/proj/proj.db lacks DATABASE.LAYOUT.VERSION.MAJOR / DATABASE.LAYOUT.VERSION.MINOR metadata. It comes from another PROJ installation.\n"
     ]
    },
    {
     "name": "stdout",
     "output_type": "stream",
     "text": [
      "./geojson/adjusted_base_center/1964.geojson\n",
      "0    POINT (32.93175 39.87438)\n",
      "1    POINT (32.93395 39.87544)\n",
      "Name: geometry, dtype: geometry\n",
      "The Unit is degree.\n"
     ]
    },
    {
     "name": "stderr",
     "output_type": "stream",
     "text": [
      "ERROR 1: PROJ: proj_identify: /home/irene-oceanus/anaconda3/envs/yolo/share/proj/proj.db lacks DATABASE.LAYOUT.VERSION.MAJOR / DATABASE.LAYOUT.VERSION.MINOR metadata. It comes from another PROJ installation.\n"
     ]
    },
    {
     "name": "stdout",
     "output_type": "stream",
     "text": [
      "./geojson/adjusted_base_center/2017.geojson\n",
      "0    POINT (30.50928 50.48933)\n",
      "1    POINT (30.51424 50.48912)\n",
      "2    POINT (30.51126 50.48923)\n",
      "3    POINT (30.51352 50.48785)\n",
      "4    POINT (30.51375 50.48790)\n",
      "5    POINT (30.51288 50.48916)\n",
      "Name: geometry, dtype: geometry\n",
      "The Unit is degree.\n"
     ]
    },
    {
     "name": "stderr",
     "output_type": "stream",
     "text": [
      "ERROR 1: PROJ: proj_identify: /home/irene-oceanus/anaconda3/envs/yolo/share/proj/proj.db lacks DATABASE.LAYOUT.VERSION.MAJOR / DATABASE.LAYOUT.VERSION.MINOR metadata. It comes from another PROJ installation.\n"
     ]
    },
    {
     "name": "stdout",
     "output_type": "stream",
     "text": [
      "./geojson/adjusted_base_center/1129.geojson\n",
      "0    POINT (32.63894 39.95841)\n",
      "Name: geometry, dtype: geometry\n",
      "The Unit is degree.\n"
     ]
    },
    {
     "name": "stderr",
     "output_type": "stream",
     "text": [
      "ERROR 1: PROJ: proj_identify: /home/irene-oceanus/anaconda3/envs/yolo/share/proj/proj.db lacks DATABASE.LAYOUT.VERSION.MAJOR / DATABASE.LAYOUT.VERSION.MINOR metadata. It comes from another PROJ installation.\n"
     ]
    },
    {
     "name": "stdout",
     "output_type": "stream",
     "text": [
      "./geojson/adjusted_base_center/1976.geojson\n",
      "0    POINT (32.91701 39.88125)\n",
      "1    POINT (32.91894 39.88715)\n",
      "2    POINT (32.91606 39.88234)\n",
      "3    POINT (32.91721 39.88538)\n",
      "4    POINT (32.91909 39.88690)\n",
      "5    POINT (32.92057 39.88811)\n",
      "Name: geometry, dtype: geometry\n",
      "The Unit is degree.\n"
     ]
    },
    {
     "name": "stderr",
     "output_type": "stream",
     "text": [
      "ERROR 1: PROJ: proj_identify: /home/irene-oceanus/anaconda3/envs/yolo/share/proj/proj.db lacks DATABASE.LAYOUT.VERSION.MAJOR / DATABASE.LAYOUT.VERSION.MINOR metadata. It comes from another PROJ installation.\n"
     ]
    },
    {
     "name": "stdout",
     "output_type": "stream",
     "text": [
      "./geojson/adjusted_base_center/2159.geojson\n",
      "0    POINT (32.94197 40.05694)\n",
      "1    POINT (32.94484 40.05723)\n",
      "Name: geometry, dtype: geometry\n",
      "The Unit is degree.\n"
     ]
    },
    {
     "name": "stderr",
     "output_type": "stream",
     "text": [
      "ERROR 1: PROJ: proj_identify: /home/irene-oceanus/anaconda3/envs/yolo/share/proj/proj.db lacks DATABASE.LAYOUT.VERSION.MAJOR / DATABASE.LAYOUT.VERSION.MINOR metadata. It comes from another PROJ installation.\n"
     ]
    },
    {
     "name": "stdout",
     "output_type": "stream",
     "text": [
      "./geojson/adjusted_base_center/1058.geojson\n",
      "0    POINT (91.77274 22.32002)\n",
      "1    POINT (91.77219 22.32250)\n",
      "2    POINT (91.77161 22.32518)\n",
      "3    POINT (91.77119 22.32744)\n",
      "4    POINT (91.77470 22.32785)\n",
      "Name: geometry, dtype: geometry\n",
      "The Unit is degree.\n"
     ]
    },
    {
     "name": "stderr",
     "output_type": "stream",
     "text": [
      "ERROR 1: PROJ: proj_identify: /home/irene-oceanus/anaconda3/envs/yolo/share/proj/proj.db lacks DATABASE.LAYOUT.VERSION.MAJOR / DATABASE.LAYOUT.VERSION.MINOR metadata. It comes from another PROJ installation.\n"
     ]
    },
    {
     "name": "stdout",
     "output_type": "stream",
     "text": [
      "./geojson/adjusted_base_center/1848.geojson\n",
      "0    POINT (106.80033 10.76546)\n",
      "1    POINT (106.79744 10.76878)\n",
      "2    POINT (106.79839 10.77183)\n",
      "Name: geometry, dtype: geometry\n",
      "The Unit is degree.\n"
     ]
    },
    {
     "name": "stderr",
     "output_type": "stream",
     "text": [
      "ERROR 1: PROJ: proj_identify: /home/irene-oceanus/anaconda3/envs/yolo/share/proj/proj.db lacks DATABASE.LAYOUT.VERSION.MAJOR / DATABASE.LAYOUT.VERSION.MINOR metadata. It comes from another PROJ installation.\n"
     ]
    },
    {
     "name": "stdout",
     "output_type": "stream",
     "text": [
      "./geojson/adjusted_base_center/1562.geojson\n",
      "0    POINT (-71.23177 -29.74552)\n",
      "1    POINT (-71.23279 -29.74857)\n",
      "2    POINT (-71.23319 -29.74914)\n",
      "Name: geometry, dtype: geometry\n",
      "The Unit is degree.\n"
     ]
    },
    {
     "name": "stderr",
     "output_type": "stream",
     "text": [
      "ERROR 1: PROJ: proj_identify: /home/irene-oceanus/anaconda3/envs/yolo/share/proj/proj.db lacks DATABASE.LAYOUT.VERSION.MAJOR / DATABASE.LAYOUT.VERSION.MINOR metadata. It comes from another PROJ installation.\n"
     ]
    },
    {
     "name": "stdout",
     "output_type": "stream",
     "text": [
      "./geojson/adjusted_base_center/1580.geojson\n",
      "0    POINT (-71.22540 -29.73211)\n",
      "1    POINT (-71.22776 -29.73370)\n",
      "2    POINT (-71.22818 -29.73483)\n",
      "3    POINT (-71.22880 -29.73673)\n",
      "Name: geometry, dtype: geometry\n",
      "The Unit is degree.\n"
     ]
    },
    {
     "name": "stderr",
     "output_type": "stream",
     "text": [
      "ERROR 1: PROJ: proj_identify: /home/irene-oceanus/anaconda3/envs/yolo/share/proj/proj.db lacks DATABASE.LAYOUT.VERSION.MAJOR / DATABASE.LAYOUT.VERSION.MINOR metadata. It comes from another PROJ installation.\n"
     ]
    },
    {
     "name": "stdout",
     "output_type": "stream",
     "text": [
      "./geojson/adjusted_base_center/1140.geojson\n",
      "0    POINT (-86.83839 15.73879)\n",
      "Name: geometry, dtype: geometry\n",
      "The Unit is degree.\n"
     ]
    },
    {
     "name": "stderr",
     "output_type": "stream",
     "text": [
      "ERROR 1: PROJ: proj_identify: /home/irene-oceanus/anaconda3/envs/yolo/share/proj/proj.db lacks DATABASE.LAYOUT.VERSION.MAJOR / DATABASE.LAYOUT.VERSION.MINOR metadata. It comes from another PROJ installation.\n"
     ]
    },
    {
     "name": "stdout",
     "output_type": "stream",
     "text": [
      "./geojson/adjusted_base_center/1175.geojson\n",
      "0    POINT (39.20846 -6.86013)\n",
      "1    POINT (39.20840 -6.85920)\n",
      "Name: geometry, dtype: geometry\n",
      "The Unit is degree.\n"
     ]
    },
    {
     "name": "stderr",
     "output_type": "stream",
     "text": [
      "ERROR 1: PROJ: proj_identify: /home/irene-oceanus/anaconda3/envs/yolo/share/proj/proj.db lacks DATABASE.LAYOUT.VERSION.MAJOR / DATABASE.LAYOUT.VERSION.MINOR metadata. It comes from another PROJ installation.\n"
     ]
    },
    {
     "name": "stdout",
     "output_type": "stream",
     "text": [
      "./geojson/adjusted_base_center/1346.geojson\n",
      "0    POINT (120.37045 22.58426)\n",
      "1    POINT (120.36911 22.58441)\n",
      "Name: geometry, dtype: geometry\n",
      "The Unit is degree.\n"
     ]
    },
    {
     "name": "stderr",
     "output_type": "stream",
     "text": [
      "ERROR 1: PROJ: proj_identify: /home/irene-oceanus/anaconda3/envs/yolo/share/proj/proj.db lacks DATABASE.LAYOUT.VERSION.MAJOR / DATABASE.LAYOUT.VERSION.MINOR metadata. It comes from another PROJ installation.\n"
     ]
    },
    {
     "name": "stdout",
     "output_type": "stream",
     "text": [
      "./geojson/adjusted_base_center/1919.geojson\n",
      "0    POINT (106.75998 10.83115)\n",
      "1    POINT (106.75991 10.83062)\n",
      "2    POINT (106.75929 10.82944)\n",
      "Name: geometry, dtype: geometry\n",
      "The Unit is degree.\n"
     ]
    },
    {
     "name": "stderr",
     "output_type": "stream",
     "text": [
      "ERROR 1: PROJ: proj_identify: /home/irene-oceanus/anaconda3/envs/yolo/share/proj/proj.db lacks DATABASE.LAYOUT.VERSION.MAJOR / DATABASE.LAYOUT.VERSION.MINOR metadata. It comes from another PROJ installation.\n"
     ]
    },
    {
     "name": "stdout",
     "output_type": "stream",
     "text": [
      "./geojson/adjusted_base_center/143.geojson\n",
      "0    POINT (10.14939 36.90867)\n",
      "1    POINT (10.14349 36.90831)\n",
      "Name: geometry, dtype: geometry\n",
      "The Unit is degree.\n"
     ]
    },
    {
     "name": "stderr",
     "output_type": "stream",
     "text": [
      "ERROR 1: PROJ: proj_identify: /home/irene-oceanus/anaconda3/envs/yolo/share/proj/proj.db lacks DATABASE.LAYOUT.VERSION.MAJOR / DATABASE.LAYOUT.VERSION.MINOR metadata. It comes from another PROJ installation.\n"
     ]
    },
    {
     "name": "stdout",
     "output_type": "stream",
     "text": [
      "./geojson/adjusted_base_center/125.geojson\n",
      "0    POINT (10.13918 36.89216)\n",
      "Name: geometry, dtype: geometry\n",
      "The Unit is degree.\n"
     ]
    },
    {
     "name": "stderr",
     "output_type": "stream",
     "text": [
      "ERROR 1: PROJ: proj_identify: /home/irene-oceanus/anaconda3/envs/yolo/share/proj/proj.db lacks DATABASE.LAYOUT.VERSION.MAJOR / DATABASE.LAYOUT.VERSION.MINOR metadata. It comes from another PROJ installation.\n"
     ]
    },
    {
     "name": "stdout",
     "output_type": "stream",
     "text": [
      "./geojson/adjusted_base_center/1604.geojson\n",
      "0    POINT (-71.21546 -29.72314)\n",
      "1    POINT (-71.21714 -29.72648)\n",
      "2    POINT (-71.21867 -29.72751)\n",
      "Name: geometry, dtype: geometry\n",
      "The Unit is degree.\n"
     ]
    },
    {
     "name": "stderr",
     "output_type": "stream",
     "text": [
      "ERROR 1: PROJ: proj_identify: /home/irene-oceanus/anaconda3/envs/yolo/share/proj/proj.db lacks DATABASE.LAYOUT.VERSION.MAJOR / DATABASE.LAYOUT.VERSION.MINOR metadata. It comes from another PROJ installation.\n"
     ]
    },
    {
     "name": "stdout",
     "output_type": "stream",
     "text": [
      "./geojson/adjusted_base_center/2036.geojson\n",
      "0    POINT (30.40785 50.50230)\n",
      "1    POINT (30.40516 50.50466)\n",
      "2    POINT (30.40320 50.50637)\n",
      "3    POINT (30.40904 50.50127)\n",
      "4    POINT (30.41361 50.50120)\n",
      "5    POINT (30.41356 50.50102)\n",
      "6    POINT (30.41155 50.50004)\n",
      "7    POINT (30.41119 50.50013)\n",
      "Name: geometry, dtype: geometry\n",
      "The Unit is degree.\n"
     ]
    },
    {
     "name": "stderr",
     "output_type": "stream",
     "text": [
      "ERROR 1: PROJ: proj_identify: /home/irene-oceanus/anaconda3/envs/yolo/share/proj/proj.db lacks DATABASE.LAYOUT.VERSION.MAJOR / DATABASE.LAYOUT.VERSION.MINOR metadata. It comes from another PROJ installation.\n"
     ]
    },
    {
     "name": "stdout",
     "output_type": "stream",
     "text": [
      "./geojson/adjusted_base_center/1602.geojson\n",
      "0    POINT (-71.22303 -29.73049)\n",
      "Name: geometry, dtype: geometry\n",
      "The Unit is degree.\n"
     ]
    },
    {
     "name": "stderr",
     "output_type": "stream",
     "text": [
      "ERROR 1: PROJ: proj_identify: /home/irene-oceanus/anaconda3/envs/yolo/share/proj/proj.db lacks DATABASE.LAYOUT.VERSION.MAJOR / DATABASE.LAYOUT.VERSION.MINOR metadata. It comes from another PROJ installation.\n"
     ]
    },
    {
     "name": "stdout",
     "output_type": "stream",
     "text": [
      "Cropping complete.\n"
     ]
    }
   ],
   "source": [
    "# Define Path\n",
    "geojson_dir = './geojson/adjusted_base_center/'\n",
    "tif_dir = '/media/HD_Matcha_2/Yan/all_train_val/'\n",
    "ground_truth_dir = './cropped/Ground_Truth/'\n",
    "train_dir = './cropped/Train/'\n",
    "\n",
    "# Create output folders\n",
    "os.makedirs(ground_truth_dir, exist_ok=True)\n",
    "os.makedirs(train_dir, exist_ok=True)\n",
    "\n",
    "# Loop all geojson files\n",
    "for geojson_file in os.listdir(geojson_dir):\n",
    "    if geojson_file.endswith('.geojson'):\n",
    "        geojson_path = os.path.join(geojson_dir, geojson_file)\n",
    "        print(geojson_path)\n",
    "        gdf = gpd.read_file(geojson_path)\n",
    "        points = gdf[\"geometry\"]\n",
    "        print(points)\n",
    "        tif_file = os.path.join(tif_dir, geojson_file.replace('.geojson', '.tif'))\n",
    "        tiff_image = rasterio.open(tif_file)        \n",
    "        bounds = tiff_image.bounds    \n",
    "        if \"metre\" in tiff_image.crs.to_string():\n",
    "            print(\"The Unit is metre. coordinate are transfered into lat-long in degrees.\")\n",
    "            bounds = transform_bounds(tiff_image.crs, \"WGS84\",\n",
    "                                             bounds.left, bounds.bottom, bounds.right, bounds.top)\n",
    "        else:\n",
    "            print(\"The Unit is degree.\")        \n",
    "        image_points_xy = latlon_2_imxy(points,bounds,[tiff_image.width,tiff_image.height])        \n",
    "        img_rgb = read_RGB_from_geotif(tiff_image)\n",
    "        for i, point in enumerate(points):\n",
    "            input_point = np.array([[image_points_xy[i][0],image_points_xy[i][1]]])\n",
    "            x, y = int(input_point[0][0]), int(input_point[0][1])   \n",
    "            # crop Ground Truth image\n",
    "            cropped_image = crop_image(img_rgb, x, y)\n",
    "            ground_truth_path = os.path.join(ground_truth_dir, f\"{geojson_file.replace('.geojson', '')}_{i}.png\")\n",
    "            save_as_png(cropped_image, ground_truth_path)\n",
    "            \n",
    "            # Randomly move points and crop images for training\n",
    "            for _ in range(30):  # Generate 10 random cropped images for each point\n",
    "                dx = int(np.clip(np.random.normal(0, 10), -80, 80))\n",
    "                dy = int(np.clip(np.random.normal(0, 10), -80, 80))\n",
    "                \n",
    "                moved_x = x + dx\n",
    "                moved_y = y + dy\n",
    "                \n",
    "                cropped_image = crop_image(img_rgb, moved_x, moved_y)\n",
    "                \n",
    "                x_direction = f\"P{dx}\" if dx > 0 else f\"N{-dx}\"\n",
    "                y_direction = f\"P{dy}\" if dy > 0 else f\"N{-dy}\"\n",
    "                \n",
    "                train_path = os.path.join(train_dir, f\"{geojson_file.replace('.geojson', '')}_{i}_{x_direction}_{y_direction}.png\")\n",
    "                save_as_png(cropped_image, train_path)\n",
    "\n",
    "print(\"Cropping complete.\")"
   ]
  },
  {
   "cell_type": "code",
   "execution_count": null,
   "id": "ca2ca105",
   "metadata": {},
   "outputs": [],
   "source": []
  }
 ],
 "metadata": {
  "kernelspec": {
   "display_name": "Python 3 (ipykernel)",
   "language": "python",
   "name": "python3"
  },
  "language_info": {
   "codemirror_mode": {
    "name": "ipython",
    "version": 3
   },
   "file_extension": ".py",
   "mimetype": "text/x-python",
   "name": "python",
   "nbconvert_exporter": "python",
   "pygments_lexer": "ipython3",
   "version": "3.7.16"
  }
 },
 "nbformat": 4,
 "nbformat_minor": 5
}
